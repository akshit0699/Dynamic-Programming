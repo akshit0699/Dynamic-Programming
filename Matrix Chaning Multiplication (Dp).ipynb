{
 "cells": [
  {
   "cell_type": "markdown",
   "metadata": {},
   "source": [
    "<h1> MATRIX CHAN MULITPLICATION AND ITS VARIANTS </h1> <br>\n",
    "1. Computing MCM and printing it.<br>\n",
    "2. Palindrome Partitioning<br>\n",
    "3. Scramled strings<br>\n",
    "4. Egg Dropping problem<br>\n",
    "5. Min/Max of a given expression<br>\n",
    "6. Boolean parentheziation<br>"
   ]
  },
  {
   "cell_type": "markdown",
   "metadata": {},
   "source": [
    "<h6> Computing the MCM, if we are given 4 matices A1,A2,A3,A4 WHAT IS THE BEST WAY OF MULIPLYING ALL THESE NUMBERS?</h6><br>\n",
    "We have to choose the optimum place to insert the brackets so that we have to make the least number of mulitplications<br>\n",
    "THESE DECISIONS ARE BASED ON THE SIZES OF THE INPUT MATRIX, AND HOW MUCH CONSTLY EACH OPERATION IS<br>We need to try out all possible combinations, but reduce the recursion steps needed, by storing results in a <br> DP TABLE SO THAT THEY NEED NOT BE COMPUTED AGAIN AND AGAIN"
   ]
  },
  {
   "cell_type": "markdown",
   "metadata": {},
   "source": [
    "<h4> KEY STEPS OF THE ALGO </h4>\n",
    "1. Find i, j<br>\n",
    "2. Find the Base codition<br>\n",
    "3. Find the k loop scheme<br>\n",
    "4. Find the temp answers<br>\n",
    "5. Return the Max/Min as need be<br>"
   ]
  },
  {
   "cell_type": "code",
   "execution_count": 2,
   "metadata": {},
   "outputs": [],
   "source": [
    "# The recursive code:\n",
    "def matrixOrder(arr, i, j):\n",
    "    if i>=j:\n",
    "        return 0\n",
    "    ans = 1000 #INT_MAX\n",
    "    for k in range(i, j):\n",
    "        count = matrixOrder(arr, i, k) + matrixOrder(arr, k+1, j) +arr[i-1]*arr[k]*arr[j]\n",
    "        ans = min(count, ans)\n",
    "    \n",
    "    return ans"
   ]
  },
  {
   "cell_type": "code",
   "execution_count": 3,
   "metadata": {},
   "outputs": [],
   "source": [
    "# Now its better to store the results in some table\n",
    "def matrixOrderDP(arr, i, j):\n",
    "    dp = [[0 for x in range(n)] for x in range(n)] \n",
    "    if i>=j:\n",
    "        return 0\n",
    "    if(dp[i][j]!=-1):\n",
    "        return dp[i][j]\n",
    "    ans = 1000 #INT_MAX\n",
    "    \n",
    "    for k in range(1,n):\n",
    "        count = matrixOrder(arr, i, k) + matrixOrder(arr, k+1, j) +arr[i-1]*arr[k]*arr[j]\n",
    "        ans = min(ans, count)\n",
    "        dp[i][j] = ans\n",
    "    return ans\n",
    "        \n",
    "    "
   ]
  },
  {
   "cell_type": "markdown",
   "metadata": {},
   "source": [
    "<h5> PALINDROME PARTITIONING </h5>\n",
    "<br>Given a string s, partition s such that every substring of the partition is a palindrome.<br>\n",
    "\n",
    "Return all possible"
   ]
  },
  {
   "cell_type": "code",
   "execution_count": 5,
   "metadata": {},
   "outputs": [],
   "source": [
    "def patition(str, i, j):\n",
    "    dp = [[0 for x in range(n)] for x in range(n)] \n",
    "    if i>=j or isPlaindrome(str, i, j): # define this function later\n",
    "        return 0\n",
    "    if(dp[i][j]!=-1):\n",
    "        return dp[i][j]\n",
    "    ans = 1000 #INT_MAX\n",
    "    \n",
    "    for k in range(1,n):\n",
    "        if(dp[i][k] !=1):\n",
    "            left = dp[i][k]\n",
    "        else:\n",
    "            left = matrixOrder(arr, i, k)\n",
    "            dp[i][k] = left\n",
    "        if(dp[k+1][j] !=1):\n",
    "            right = dp[k+1][j]\n",
    "        else:\n",
    "            right = matrixOrder(arr, k+1, j)\n",
    "            dp[k+1][j] = right\n",
    "                \n",
    "        count = left + right +arr[i-1]*arr[k]*arr[j]\n",
    "        ans = min(ans, count)\n",
    "        dp[i][j] = ans\n",
    "    return ans\n",
    "    "
   ]
  },
  {
   "cell_type": "code",
   "execution_count": 8,
   "metadata": {},
   "outputs": [],
   "source": [
    "def partitonDP(s):\n",
    "    n = len(s)\n",
    "    dp = [[False for i in range(n)] for i in range(n)]\n",
    "    \n",
    "    # CREATING THE BOOLEAN DP TABLE AS DONE FOR LPS earlier\n",
    "    for i in range(n):\n",
    "        dp[i][i] = True\n",
    "    for i in range(n-1):\n",
    "        if s[i] == s[i+1]:\n",
    "            dp[i][i+1] = True\n",
    "    for curr_len in range(3, n+1):\n",
    "        for i in range(n-curr_len+1):\n",
    "            j = i+curr_len-1\n",
    "            if(s[i]==s[j] and dp[i+1][j-1]):\n",
    "                dp[i][j] = True\n",
    "    # Now we can start to split this string up in multiple parts and check if those substrings formed are palindromes using the dp table\n",
    "    # We will create an array to track the min number of cuts required to split up a given string at any point\n",
    "    # If the string is a palindrom already we do not need to make any cuts\n",
    "    cut = []\n",
    "    for i in range(n):\n",
    "        temp = 100\n",
    "        if(dp[0][i]):\n",
    "            cuts.insert(i,0)\n",
    "        else:\n",
    "            for j in range(i):\n",
    "                if(dp[j+1][i] and temp > cuts[j]+1):\n",
    "                    temp = cuts[j]+1\n",
    "                cuts.insert(i, temp)\n",
    "    return cuts[n-1]\n",
    "            \n",
    "    "
   ]
  },
  {
   "cell_type": "code",
   "execution_count": 10,
   "metadata": {},
   "outputs": [
    {
     "name": "stdout",
     "output_type": "stream",
     "text": [
      "2\n",
      "--- 0.0019948482513427734 seconds ---\n"
     ]
    }
   ],
   "source": [
    "import time\n",
    "start_time = time.time()\n",
    "S = ['T', '|', 'F', '&', 'T', '^', 'T']\n",
    "n = len(S)\n",
    "\n",
    "\n",
    "# T size: 2 x n x n\n",
    "# 3D DP table, to set up one False row, one True row\n",
    "T = [[[-1 for _ in range(n)] for _ in range(n)] for _ in range(2)]\n",
    "\n",
    "\n",
    "def countParen(S, i, j, isTrue):\n",
    "    \n",
    "    # Base Cases, if i surpasses j then we are doomed\n",
    "    if i > j:\n",
    "        return False\n",
    "    \n",
    "    # We have travered the entire string \n",
    "    if i == j:\n",
    "        if isTrue:\n",
    "            return S[i] == 'T'\n",
    "        else:\n",
    "            return S[i] == 'F'\n",
    "        \n",
    "    if T[isTrue][i][j] != -1:\n",
    "        return T[isTrue][i][j]\n",
    "    \n",
    "    count = 0\n",
    "    for k in range(i+1, j, 2):\n",
    "        LT = Solve(S, i, k-1, True)\n",
    "        LF = Solve(S, i, k-1, False)\n",
    "        RT = Solve(S, k+1, j, True)\n",
    "        RF = Solve(S, k+1, j, False)\n",
    "\n",
    "\n",
    "        if S[k] == '&':\n",
    "            if isTrue:\n",
    "                count = count + LT * RT\n",
    "            else:\n",
    "                count = count + LT * RF + LF * RT + LF * RF\n",
    "        elif S[k] == '|':\n",
    "            if isTrue:\n",
    "                count = count + LT * RF + LF * RT + LT * RT\n",
    "            else:\n",
    "                count = count + LF * RF\n",
    "        elif S[k] == '^':\n",
    "            if isTrue:\n",
    "                count = count + LT * RF + LF * RT\n",
    "            else:\n",
    "                count = count + LT * RT + LF * RF\n",
    "        T[isTrue][i][j] = count\n",
    "    return count\n",
    "\n",
    "\n",
    "count = Solve(S, 0, len(S) - 1, True)\n",
    "print(count)\n",
    "print(\"--- %s seconds ---\" % (time.time() - start_time))"
   ]
  },
  {
   "cell_type": "code",
   "execution_count": 1,
   "metadata": {},
   "outputs": [],
   "source": [
    "def eggDrop(totalEggs, totalFloors):\n",
    "    dp = [[0 for i in range(totalFloors+1)]for i in range(totalEggs+1)]\n",
    "    # if no floor/ no egg given, 0 filled\n",
    "    # if we have 0/1 floors, no matter how many eggs we have we need 0/1 only, respectively\n",
    "    for eggs in range(1, totalEggs+1):\n",
    "        dp[eggs][0] = 0\n",
    "        dp[eggs][1] = 1\n",
    "        \n",
    "    # if we have only one egg, no matter what floors we have, worst case we need to try them all\n",
    "    for floor in range(1,totalFloors+1):\n",
    "        dp[1][floor] = floor\n",
    "        \n",
    "    for eggs in range(2, totalEggs+1):\n",
    "        for floors in range(2, totalFloors+1):\n",
    "            dp[eggs][floors] = floors\n",
    "            for attemptedFloor in range(1, floors+1):\n",
    "                # We drop an egg, and it doesnt break, we have total - attempedFloor floors left\n",
    "                noBreak = dp[eggs][floor-attemptedFloor]\n",
    "                # Egg did break, we move one floor down\n",
    "                Break = dp[eggs-1][attemptedFloor-1]\n",
    "                \n",
    "                \n",
    "                # We need the worstCaseOutcome, so max\n",
    "                worstCaseOutcome = 1+ max(noBreak, Break)\n",
    "            dp[eggs][floor] = min(dp[eggs][floor], worstCaseOutcome)\n",
    "    return dp[totalEggs][totalFloors]"
   ]
  },
  {
   "cell_type": "markdown",
   "metadata": {},
   "source": [
    "<h6>HIGHLY OPTIMIZED SOLUTION<br><br>\"How many floors can you check given M moves available and K eggs\".</h6>\n",
    "<br>https://leetcode.com/problems/super-egg-drop/discuss/158974/C%2B%2BJavaPython-2D-and-1D-DP-O(KlogN)<br>\n",
    "<br>Consider dp[floors][eggs] representing that we have these much eggs and we need to check for these many floors\n",
    "<br>Egg does break, we are left with eggs-1, and floors to check now floors-1\n",
    "<br>Egg does not break, we are left with same eggs and floors to check now floors-1\n",
    "<br>dp[m][k] = dp[m - 1][k - 1] + dp[m - 1][k] + 1\n",
    "<br> +1 denoting we took one move to a floor\n",
    "<br><br>\n",
    "New DP definition: If you give me k egg, let me drop m times, I can try out maximum dp[m][k] floors. <br> Based on this definition, the result is some m, which cases dp[m][K] equals N.<br>\n",
    "\n",
    "The transfer equation is based on the following facts:<br>\n",
    "\n",
    "<h5>No matter which floor you try</h5>, the egg will only break or not break, if break, go downstairs, if not break, go upstairs.<br>\n",
    "\n",
    "<h5>No matter you go up or go down</h5>, the num of all the floors is always upstairs + downstairs + the floor you try,<br> which is dp[m][k] = dp[m - 1][k - 1] + dp[m - 1][k] + 1."
   ]
  },
  {
   "cell_type": "code",
   "execution_count": 4,
   "metadata": {},
   "outputs": [],
   "source": [
    "def eggDropOpt(totalEggs, totalFloors):\n",
    "    dp = [[0 for i in range(totalEggs+1)]for i in range(totalFloors+1)]\n",
    "    for floors in range(1,totalFloors+1):\n",
    "        for eggs in range(1, totalEggs+1):\n",
    "            dp[floors][eggs] = 1+ dp[floors-1][eggs] + dp[floors-1][eggs-1]\n",
    "            \n",
    "        if dp[floors][eggs]>=totalFloors: # We have got the answer for totalFloors\n",
    "            return floors\n",
    "        "
   ]
  },
  {
   "cell_type": "code",
   "execution_count": null,
   "metadata": {},
   "outputs": [],
   "source": []
  }
 ],
 "metadata": {
  "kernelspec": {
   "display_name": "Python 3",
   "language": "python",
   "name": "python3"
  },
  "language_info": {
   "codemirror_mode": {
    "name": "ipython",
    "version": 3
   },
   "file_extension": ".py",
   "mimetype": "text/x-python",
   "name": "python",
   "nbconvert_exporter": "python",
   "pygments_lexer": "ipython3",
   "version": "3.6.5"
  }
 },
 "nbformat": 4,
 "nbformat_minor": 2
}
