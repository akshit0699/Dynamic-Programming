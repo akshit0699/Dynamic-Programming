{
 "cells": [
  {
   "cell_type": "markdown",
   "metadata": {},
   "source": [
    "<h1> UNBOUNDED KNAPSACK PROBLEM VARIATIONS </h1>\n",
    "<h3>1. Rod cutting problem <br> 2. Coin change max ways <br>3. Coin Change minimim coins needed"
   ]
  },
  {
   "cell_type": "markdown",
   "metadata": {},
   "source": [
    "The unbounded knapsack problem is a variation of the 0/1 problem, here there is INFINITE INSTANCES of whatever item we need, so in case an item has been chosen, it doesnt mean that we can not choose it again! <br> So the syntax also removes almost similar, it goes as follows:<br><br><br>\n",
    "if(arr[i]<=j) dp[i][j] = max (dp[i-1][j] , val[i-1] + dp[i][j-nums[i-1]])<br>\n",
    "else dp[i-1][j]"
   ]
  },
  {
   "cell_type": "markdown",
   "metadata": {},
   "source": [
    "<h5>ROD CUTTING PROBLEM</h5><br>\n",
    "Given a rod with a length l, we can divide it into as many whole parts as we like.<br>\n",
    "Each length has a profit associated with it when sold. <br>\n",
    "We need to MAXIMIZE THIS PROFIT, i.e.  DECIEDE HOW TO DIVIDE THIS ROD!\n",
    "One cutting of given length and the best possible profit for the remaining length.\n",
    "Say I have a rod of length of 5.\n",
    "I can cut at 1 unit length and take the maxProfit for a subunit of of remaning length of 4!\n"
   ]
  },
  {
   "cell_type": "markdown",
   "metadata": {},
   "source": [
    "<br>We need to break it, we can choose any set of lenghts, we can choose not to choose any of them <br>Also we can break it into two equal parts too. So same lengths can be chosen, mulitple instance of a problem, therefore UNBOUNDED KNAPSACK"
   ]
  },
  {
   "cell_type": "code",
   "execution_count": 1,
   "metadata": {},
   "outputs": [],
   "source": [
    "# GIVEN THE PRICES ARRAY\n",
    "arr = [1, 5, 8, 9, 10, 17, 17, 20] \n",
    "lens= [1, 2, 3, 4, 5,  6,  7,   8]\n",
    "# Length of my rod is 8 so if I choose 2+6, I can make a profit of 22! which will be the max possible\n",
    "\n",
    "def cutRod(profits, n):\n",
    "    dp = [0 for i in range(n+1)]\n",
    "    \n",
    "    for i in range(1, n+1): # availabe lengths\n",
    "        max_val = -32767\n",
    "        for j in range(i): # We compute max result for a given length.\n",
    "            max_val = max(max_val, profit[j] + dp[i-1-j]) #price[j] means the profit of the length we decided to cut on, and dp[i-j-1] will tell how much back I need to go to find the remaining length's profit.\n",
    "        dp[i] = max_val\n",
    "    return dp[n]"
   ]
  },
  {
   "cell_type": "markdown",
   "metadata": {},
   "source": [
    "<h3> COIN CHANGE MAXIMIM WAYS </h3> <br>"
   ]
  },
  {
   "cell_type": "markdown",
   "metadata": {},
   "source": [
    "We are given a target value for whom we want to make change.\n",
    "We have a set of values showing coins availabe in infinite supply <br>Because infinite supply UNBOUNDED KNAPSACK!\n",
    "<br> set = [1,2,3] and val = 4\n",
    "We from subproblems and try to form Rs 0,1,....4 using coins one by one and keep increasing the values\n"
   ]
  },
  {
   "cell_type": "code",
   "execution_count": 2,
   "metadata": {},
   "outputs": [],
   "source": [
    "def maxWays(coins, val):\n",
    "    n = len(coins)\n",
    "    dp = [[0 for i in range(val+1)] for j in range(n+1)]\n",
    "    # Now we run a loop for a change we need to make, and every coin in the coins array can either make this change/ can not\n",
    "    for i in range(n+1):\n",
    "        dp[i][0] = 1\n",
    "    \n",
    "    for i in range(1, n+1):\n",
    "        for j in range(1, val+1):\n",
    "            if(coins[i-1]<=j):\n",
    "                dp[i][j] = dp[i-1][j] + dp[i][j - coins[i-1]]\n",
    "            else\n",
    "                dp[i][j] = dp[i-1][j]\n",
    "    "
   ]
  },
  {
   "cell_type": "markdown",
   "metadata": {},
   "source": [
    "INPUT TAKING METHOD, WITH FIRST LOOP FOR THE NUMBER OF TEST CASES NEEDED<br>\n",
    "for cases in range(int(input())):<br>\n",
    "n,coins,val=int(input()),list(map(int,input().split())),int(input())"
   ]
  },
  {
   "cell_type": "code",
   "execution_count": 4,
   "metadata": {},
   "outputs": [],
   "source": [
    "#TRYING TO DO THE PROBLEM IN SPACE COMPLEXITY O(n)\n",
    "def maxWays2(coins, val):\n",
    "    n = len(coins)\n",
    "    table = [0 for k in range(n+1)] \n",
    "  \n",
    "    # Base case (If given value is 0) \n",
    "    table[0] = 1\n",
    "  \n",
    "    # Pick all coins one by one and update the table[] values \n",
    "    # after the index greater than or equal to the value of the \n",
    "    # picked coin \n",
    "    for i in range(0,m): \n",
    "        for j in range(S[i],n+1): \n",
    "            table[j] = table[j] + table[j-S[i]] \n",
    "  \n",
    "    return table[n] "
   ]
  },
  {
   "cell_type": "markdown",
   "metadata": {},
   "source": [
    "<h3> COIN CHANGE, MINIMUM COINS NEEDED </h3>"
   ]
  },
  {
   "cell_type": "markdown",
   "metadata": {},
   "source": [
    "Say I have to make a change of 4, and available coins are [1,2,3] the minimum coins needed for this is 2 coins! (2,2) or (1,3)\n",
    "At every point for making any said change, I can either choose to choose that coin, or not choose it all.\n",
    "I can also reuse a given coin."
   ]
  },
  {
   "cell_type": "code",
   "execution_count": 40,
   "metadata": {},
   "outputs": [],
   "source": [
    "def minCoins(coins, val):\n",
    "    n = len(coins)\n",
    "    dp = [n for i in range(val+1)]\n",
    "    dp[0] =  0 # 0 possible ways to make sum of 0\n",
    "    for i in range(1, val+1):\n",
    "        for j in range(n):\n",
    "            if(coins[j-1]<=i):\n",
    "                dp[i] = min(dp[i], 1+dp[i-coins[j-1]])\n",
    "    for x in dp:\n",
    "        print(x, end = ' ')\n",
    "    return dp[val]\n",
    "    \n",
    "    \n",
    "    "
   ]
  },
  {
   "cell_type": "code",
   "execution_count": 41,
   "metadata": {},
   "outputs": [
    {
     "name": "stdout",
     "output_type": "stream",
     "text": [
      "0 3 3 3 3 1 3 3 3 3 1 3 3 3 3 2 3 3 3 3 2 3 3 3 3 1 3 3 3 3 2 "
     ]
    },
    {
     "data": {
      "text/plain": [
       "2"
      ]
     },
     "execution_count": 41,
     "metadata": {},
     "output_type": "execute_result"
    }
   ],
   "source": [
    "coins = [25, 10, 5]\n",
    "val = 30\n",
    "minCoins(coins, val)"
   ]
  },
  {
   "cell_type": "code",
   "execution_count": null,
   "metadata": {},
   "outputs": [],
   "source": []
  }
 ],
 "metadata": {
  "kernelspec": {
   "display_name": "Python 3",
   "language": "python",
   "name": "python3"
  },
  "language_info": {
   "codemirror_mode": {
    "name": "ipython",
    "version": 3
   },
   "file_extension": ".py",
   "mimetype": "text/x-python",
   "name": "python",
   "nbconvert_exporter": "python",
   "pygments_lexer": "ipython3",
   "version": "3.6.5"
  }
 },
 "nbformat": 4,
 "nbformat_minor": 2
}
