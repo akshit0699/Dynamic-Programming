{
 "cells": [
  {
   "cell_type": "markdown",
   "metadata": {},
   "source": [
    "<h2> Minimum ASCII Delete Sum for Two Strings"
   ]
  },
  {
   "cell_type": "code",
   "execution_count": 2,
   "metadata": {},
   "outputs": [],
   "source": [
    "class Solution(object):\n",
    "    def minimumDeleteSum(self, s1, s2):\n",
    "        \"\"\"\n",
    "        :type s1: str\n",
    "        :type s2: str\n",
    "        :rtype: int\n",
    "        \"\"\"\n",
    "        \n",
    "        # find the lcs\n",
    "        # min(ASCIISUM(s1-lcs) - ASCIISUM(s2-lcs)) is the answer\n",
    "        \n",
    "        n, m = len(s1),len(s2)\n",
    "        sum = 0\n",
    "        \n",
    "        for x in s1:\n",
    "            sum+= ord(x)\n",
    "        for x in s2:\n",
    "            sum+= ord(x)\n",
    "            \n",
    "        dp = [[0 for i in range(m+1)]for i in range(n+1)]\n",
    "        \n",
    "        for i in range(1,n+1):\n",
    "            for j in range(1,m+1):\n",
    "                if(s1[i-1] == s2[j-1]):\n",
    "                    dp[i][j] = dp[i-1][j-1] + ord(s1[i-1])\n",
    "                else:\n",
    "                    dp[i][j] = max(dp[i][j-1], dp[i-1][j])\n",
    "        return sum - 2*dp[n][m]\n",
    "        \n",
    "        "
   ]
  },
  {
   "cell_type": "markdown",
   "metadata": {},
   "source": [
    "<h2> Edit Distance"
   ]
  },
  {
   "cell_type": "code",
   "execution_count": 3,
   "metadata": {},
   "outputs": [],
   "source": [
    "class Solution(object):\n",
    "    def minDistance(self, word1, word2):\n",
    "        \"\"\"\n",
    "        :type word1: str\n",
    "        :type word2: str\n",
    "        :rtype: int\n",
    "        \"\"\"\n",
    "        \"\"\"Dynamic programming solution\"\"\"\n",
    "        m = len(word1)\n",
    "        n = len(word2)\n",
    "        table = [[0 for i in range(n+1)]for i in range(m+1)]\n",
    "\n",
    "        for i in range(m + 1):\n",
    "            table[i][0] = i\n",
    "        for j in range(n + 1):\n",
    "            table[0][j] = j\n",
    "\n",
    "        for i in range(1, m + 1):\n",
    "            for j in range(1, n + 1):\n",
    "                if word1[i - 1] == word2[j - 1]:\n",
    "                    table[i][j] = table[i - 1][j - 1]\n",
    "                else:\n",
    "                    table[i][j] = 1 + min(table[i - 1][j], table[i][j - 1], table[i - 1][j - 1])\n",
    "        return table[-1][-1]\n",
    "        "
   ]
  },
  {
   "cell_type": "markdown",
   "metadata": {},
   "source": [
    "<h2>Minimum Insertion Steps to Make a String Palindrome"
   ]
  },
  {
   "cell_type": "code",
   "execution_count": 4,
   "metadata": {},
   "outputs": [],
   "source": [
    "class Solution(object):\n",
    "    def minInsertions(self, s):\n",
    "        \"\"\"\n",
    "        :type s: str\n",
    "        :rtype: int\n",
    "        \"\"\"\n",
    "        n = len(s)\n",
    "        dp = [[0 for i in range(n)]for i in range(n)]\n",
    "        for i in range(n):\n",
    "            dp[i][i] = 1\n",
    "        for curr_len in range(2,n+1):\n",
    "            for i in range(n-curr_len+1):\n",
    "                j = i+curr_len-1\n",
    "                if(s[i] == s[j]):\n",
    "                    dp[i][j] = 2+dp[i+1][j-1]\n",
    "                else:\n",
    "                    dp[i][j] = max(dp[i+1][j], dp[i][j-1])\n",
    "        return n-dp[0][n-1]\n"
   ]
  },
  {
   "cell_type": "code",
   "execution_count": null,
   "metadata": {},
   "outputs": [],
   "source": []
  }
 ],
 "metadata": {
  "kernelspec": {
   "display_name": "Python 3",
   "language": "python",
   "name": "python3"
  },
  "language_info": {
   "codemirror_mode": {
    "name": "ipython",
    "version": 3
   },
   "file_extension": ".py",
   "mimetype": "text/x-python",
   "name": "python",
   "nbconvert_exporter": "python",
   "pygments_lexer": "ipython3",
   "version": "3.6.5"
  }
 },
 "nbformat": 4,
 "nbformat_minor": 2
}
