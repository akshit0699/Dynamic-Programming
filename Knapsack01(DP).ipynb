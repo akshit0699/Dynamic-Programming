{
 "cells": [
  {
   "cell_type": "markdown",
   "metadata": {},
   "source": [
    "<h1> 0/1 KNAPSACK PROBLEM VARIATIONS</h1>\n",
    "<h3> 1. Subset sum<br>2.Equal Sum Partition<br> 3.Count of subset with given Sum<br>4. Minimum Subset Sum difference<br>5. Count of subsets with a given difference<br> 6.Target Sum </h3>"
   ]
  },
  {
   "cell_type": "markdown",
   "metadata": {},
   "source": [
    "SUBSET SUM PROBLEM"
   ]
  },
  {
   "cell_type": "markdown",
   "metadata": {},
   "source": [
    "Tell if a set of numbers can form a sum which is equal to a given target, at each point we can either choose to choose the number or not choose it. This is our decision space.\n",
    "Based on this decision we see if we can reach the target needed\n"
   ]
  },
  {
   "cell_type": "markdown",
   "metadata": {},
   "source": [
    "NOTE: INSTEAD OF SUMMING UP TO TARGET, WE BUILD FROM 0,1,2.....TARGET and use the precomputed results\n",
    "\n",
    "<h6>We will see, if the current element has a value greater than the sum that we are trying to make, then there is no point of using it, then we use the previously computed result(w/o this number)</h6>\n",
    "\n",
    "<h6>If this element can be used to create the sum, then we will see, if this sum has already been created then it is well and good, but if it hasn't been created then, see if sum obtained by reducing this elemnts value from the current sum is a sum that has been created already or not"
   ]
  },
  {
   "cell_type": "code",
   "execution_count": 5,
   "metadata": {},
   "outputs": [],
   "source": [
    "def isSubsetSum(set, n, target):\n",
    "    #we form a dp table, which is n+1*sum+1\n",
    "    dp =[[ False for i in range(target+1) ]for j in range(n+1)]\n",
    "    \n",
    "    #If the sum we need to make is zero then we can always make it, hence all trues\n",
    "    for i in range(n+1):\n",
    "        dp[i][0] = True\n",
    "    \n",
    "    for i in range(1,n+1):\n",
    "        for j in range(1,target+1):\n",
    "            if(j>=set[i-1]): # if the sum I am trying to make can be eaten up by current number\n",
    "                dp[i][j] = dp[i-1][j] or dp[i-1][j- set[i-1]]\n",
    "            else:\n",
    "                dp[i][j] = dp[i-1][j]\n",
    "    return dp[n][target]\n",
    "                "
   ]
  },
  {
   "cell_type": "code",
   "execution_count": 29,
   "metadata": {},
   "outputs": [],
   "source": [
    "def countSubsets(set, n, target):\n",
    "    dp = [[0 for i in range(target+1)] for j in range(n+1)]\n",
    "    for i in range(n+1):\n",
    "        dp[i][0] = 1\n",
    "    for i in range(1,n+1):\n",
    "        for j in range(1,target+1):\n",
    "            if(j>=set[i-1]):\n",
    "                dp[i][j] = dp[i-1][j] + dp[i-1][j- set[i-1]]\n",
    "            else:\n",
    "                dp[i][j] = dp[i-1][j]\n",
    "                \n",
    "    for i in range(n+1):\n",
    "        for j in range(target+1):\n",
    "            print(dp[i][j], end = ' ')\n",
    "        print(\"\\n\")\n",
    "    return dp[n][target]\n",
    "    \n",
    "    "
   ]
  },
  {
   "cell_type": "markdown",
   "metadata": {},
   "source": [
    "The above two functions are essentialy the same, just the or replace by a +"
   ]
  },
  {
   "cell_type": "code",
   "execution_count": 30,
   "metadata": {},
   "outputs": [
    {
     "name": "stdout",
     "output_type": "stream",
     "text": [
      "1 0 0 0 0 0 0 0 0 0 \n",
      "\n",
      "1 0 0 1 0 0 0 0 0 0 \n",
      "\n",
      "1 0 0 1 0 0 0 0 0 0 \n",
      "\n",
      "1 0 0 1 1 0 0 1 0 0 \n",
      "\n",
      "1 0 0 1 1 0 0 1 0 0 \n",
      "\n",
      "1 0 0 1 1 1 0 1 1 1 \n",
      "\n",
      "1 0 1 1 1 2 1 2 1 2 \n",
      "\n"
     ]
    },
    {
     "data": {
      "text/plain": [
       "2"
      ]
     },
     "execution_count": 30,
     "metadata": {},
     "output_type": "execute_result"
    }
   ],
   "source": [
    "arr = [3, 34, 4, 12, 5, 2] \n",
    "sum = 9\n",
    "n = len(arr)\n",
    "countSubsets(arr,n,sum)"
   ]
  },
  {
   "cell_type": "markdown",
   "metadata": {},
   "source": [
    "EQUAL SUM PARTITON PROBLEM\n",
    "I neeed to find if I can break an array into 2 subsets such that both of them have the same sum!\n",
    "Essentially this will be possible only if, the sum of array is EVEN! coz simply saying, 23/2 is not possible!\n",
    "Now once I can find 22/2 in the array as a sum of any said elements of the set, then there surely will be other set that has 22/2 as the sum"
   ]
  },
  {
   "cell_type": "code",
   "execution_count": 48,
   "metadata": {},
   "outputs": [],
   "source": [
    "def canPartition(set,n):\n",
    "    sum = 0\n",
    "    for i in range(n):\n",
    "        sum+=set[i]\n",
    "    if sum%2!=0:\n",
    "        return False\n",
    "    target = sum//2\n",
    "    dp =[[ False for i in range(target+1) ]for j in range(n+1)]\n",
    "    \n",
    "    #If the sum we need to make is zero then we can always make it, hence all trues\n",
    "    for i in range(n+1):\n",
    "        dp[i][0] = True\n",
    "    \n",
    "    for i in range(n+1):\n",
    "        for j in range(target+1):\n",
    "            if(j>=set[i-1]): # if the sum I am trying to make can be eaten up by current number\n",
    "                dp[i][j] = dp[i-1][j] or dp[i-1][j- set[i-1]]\n",
    "            else:\n",
    "                dp[i][j] = dp[i-1][j]\n",
    "    return dp[n][target]\n",
    "                \n",
    "    \n",
    "    "
   ]
  },
  {
   "cell_type": "code",
   "execution_count": 50,
   "metadata": {},
   "outputs": [
    {
     "data": {
      "text/plain": [
       "True"
      ]
     },
     "execution_count": 50,
     "metadata": {},
     "output_type": "execute_result"
    }
   ],
   "source": [
    "arr = [3, 1, 5, 9, 12]\n",
    "n = len(arr)\n",
    "canPartition(arr,n)"
   ]
  },
  {
   "cell_type": "markdown",
   "metadata": {},
   "source": [
    "\n",
    "MINIMIMUM SUBSET SUM DIFFERENCE\n",
    "<h4>sum(set) = sum(first set) + sum(second set) <br>\n",
    "sum(second set) = sum(set) - sum(first set)<br><br>\n",
    "Minimize(Range - 2*S1)\n",
    " \n",
    "<h6>Earlier we split a set into two subsets, such that S2 - s1 = 0\n",
    "Now we aim at minimising this difference minimize(S2 - S1)\n"
   ]
  },
  {
   "cell_type": "markdown",
   "metadata": {},
   "source": [
    "We assume that S1 will always be the smaller one.<br>\n",
    "Values that S1 can have = 0 to sum(set) <br>\n",
    "but because it is the smaller one, then the values will only come from the first half\n",
    "S1 will range from-------> 0 to sum(set)/2\n",
    "\n"
   ]
  },
  {
   "cell_type": "markdown",
   "metadata": {},
   "source": [
    "<h6>But not all Sum values are possible! Which are possible? WE FIND USING isSubsetSum() function!"
   ]
  },
  {
   "cell_type": "code",
   "execution_count": 74,
   "metadata": {},
   "outputs": [],
   "source": [
    "def findMin(set):\n",
    "    n = len(set)\n",
    "    target = 0\n",
    "    for i in range(n):\n",
    "        target+=set[i]\n",
    "    #we form a dp table, which is n+1*sum+1\n",
    "    dp =[[ False for i in range(target+1) ]for j in range(n+1)]\n",
    "    \n",
    "    #If the sum we need to make is zero then we can always make it, hence all trues\n",
    "    for i in range(n+1):\n",
    "        dp[i][0] = True\n",
    "    \n",
    "    for i in range(1,n+1):\n",
    "        for j in range(1,target+1):\n",
    "            if(j>=set[i-1]): # if the sum I am trying to make can be eaten up by current number\n",
    "                dp[i][j] = dp[i-1][j] or dp[i-1][j- set[i-1]]\n",
    "            else:\n",
    "                dp[i][j] = dp[i-1][j]\n",
    "    \n",
    "    list = []\n",
    "\n",
    "    for i in range(target//2, -1, -1):\n",
    "        if(dp[n][j]):\n",
    "            list.append(target- 2*i)\n",
    "            #diff = min(diff, target - 2*i) # find the minimum  instead!\n",
    "            \n",
    "    return min(list)\n",
    "    \n",
    "    \n",
    "    "
   ]
  },
  {
   "cell_type": "code",
   "execution_count": 75,
   "metadata": {},
   "outputs": [
    {
     "data": {
      "text/plain": [
       "1"
      ]
     },
     "execution_count": 75,
     "metadata": {},
     "output_type": "execute_result"
    }
   ],
   "source": [
    "arr = [3, 1, 4, 2, 2, 1]\n",
    "findMin(arr)"
   ]
  },
  {
   "cell_type": "markdown",
   "metadata": {},
   "source": [
    "COUNT OF SUBSETS WITH A GIVEN DIFFERENCE.\n",
    "We have to find how many subsets are there which have a difference equal to a given target.\n",
    "<h4>Let's see how this can be converted to a subset sum problem:<br>\n",
    "              sum(P) - sum(N) = target<br>\n",
    "sum(P) + sum(N) + sum(P) - sum(N) = target + sum(P) + sum(N)<br>\n",
    "                       2 * sum(P) = target + sum(nums) </h4><br>\n",
    "So now we simply need to find in our set the number of subsets that sum up to the value (target + sum(nums))/2\n",
    " \n",
    "<br>Also, target+ Sum must be EVEN! As in the previous case.\n"
   ]
  },
  {
   "cell_type": "code",
   "execution_count": 76,
   "metadata": {},
   "outputs": [],
   "source": [
    "def findTargetWays(set, target):\n",
    "    total = sum(set)\n",
    "    n = len(set)\n",
    "    if( target>total or (target+total)%2!=0):\n",
    "        return 0\n",
    "    return countSubsets(set, n, (target+total)/2 )\n",
    "    \n",
    "    "
   ]
  },
  {
   "cell_type": "markdown",
   "metadata": {},
   "source": [
    "For TARGET SUM,<br>\n",
    "The original problem statement is equivalent to:<br>\n",
    "Find a subset of nums that need to be positive, and the rest of them negative, such that the sum is equal to target, which is exaclty the same as the above problem discussed"
   ]
  },
  {
   "cell_type": "code",
   "execution_count": null,
   "metadata": {},
   "outputs": [],
   "source": []
  }
 ],
 "metadata": {
  "kernelspec": {
   "display_name": "Python 3",
   "language": "python",
   "name": "python3"
  },
  "language_info": {
   "codemirror_mode": {
    "name": "ipython",
    "version": 3
   },
   "file_extension": ".py",
   "mimetype": "text/x-python",
   "name": "python",
   "nbconvert_exporter": "python",
   "pygments_lexer": "ipython3",
   "version": "3.6.5"
  }
 },
 "nbformat": 4,
 "nbformat_minor": 2
}
