{
 "cells": [
  {
   "cell_type": "markdown",
   "metadata": {},
   "source": [
    "<h1> LONGEST COMMON SUBSEQUENCE AND VARIATIONS </h1><br>\n",
    "1. Longest Common Substring and print it<br>\n",
    "2. Shortest Common Supersequence and print it<br>\n",
    "3. Minimum no of insertions/deletion to reach b from a a-->b<br>\n",
    "4. Longest Repeating Subsequence<br>\n",
    "5. Length of largest subsequence of 'a' which is a subtring of 'b'<br>\n",
    "6. Subsequence Pattern matching<br>\n",
    "7. Number of deletions needed to make two strings same<br>\n",
    "8. Check if s is a subsequence t<br>"
   ]
  },
  {
   "cell_type": "markdown",
   "metadata": {},
   "source": [
    "<h6> Longest Common Subsequence <br>\n",
    "LCS for input Sequences “ABCDGH” and “AEDFHR” is “ADH” of length 3. <br>\n",
    "LCS for input Sequences “AGGTAB” and “GXTXAYB” is “GTAB” of length 4.\n",
    "\n"
   ]
  },
  {
   "cell_type": "code",
   "execution_count": 52,
   "metadata": {},
   "outputs": [],
   "source": [
    "def findLCS(s1, s2):\n",
    "    n = len(s1)\n",
    "    m = len(s2)\n",
    "    dp = [[0 for i in range(m+1)] for j in range(n+1)]\n",
    "    \n",
    "    for i in range(n+1):\n",
    "        for j in range(m+1):\n",
    "            if(i==0 or j==0):\n",
    "                continue\n",
    "            elif(s1[i-1] == s2[j-1]):\n",
    "                dp[i][j] = dp[i-1][j-1] + 1\n",
    "            else:\n",
    "                dp[i][j] = max(dp[i][j-1], dp[i-1][j])\n",
    "    return dp[n][m]\n"
   ]
  },
  {
   "cell_type": "code",
   "execution_count": 64,
   "metadata": {},
   "outputs": [],
   "source": [
    "def findLCS1(s1, s2):\n",
    "    n = len(s1)\n",
    "    m = len(s2)\n",
    "    dp = [[0 for i in range(m+1)] for j in range(n+1)]\n",
    "    \n",
    "    for i in range(n+1):\n",
    "        for j in range(m+1):\n",
    "            if(i==0 or j==0):\n",
    "                continue\n",
    "            elif(s1[i-1] == s2[j-1]):\n",
    "                dp[i][j] = dp[i-1][j-1] + 1\n",
    "            else:\n",
    "                dp[i][j] = max(dp[i][j-1], dp[i-1][j])\n",
    "                \n",
    "    lcs = \"\"\n",
    "    i = n\n",
    "    j = m\n",
    "    while i>0 and j>0:\n",
    "        # If current character in X[] and Y are same, then \n",
    "        # current character is part of LCS\n",
    "        if(s1[i-1] == s2[j-1]):\n",
    "            lcs +=s1[i-1]\n",
    "            i-=1\n",
    "            j-=1\n",
    "            \n",
    "        # If not same, then find the larger of two and \n",
    "        # go in the direction of larger value \n",
    "        elif(dp[i-1][j]> dp[i][j-1]):\n",
    "            i -=1\n",
    "        else:\n",
    "            j-=1\n",
    "    #print(lcs[::-1])\n",
    "    return lcs[::-1]     \n",
    "    #return dp[n][m]\n",
    "                \n",
    "    "
   ]
  },
  {
   "cell_type": "code",
   "execution_count": 24,
   "metadata": {},
   "outputs": [
    {
     "name": "stdout",
     "output_type": "stream",
     "text": [
      "GTAB\n"
     ]
    },
    {
     "data": {
      "text/plain": [
       "4"
      ]
     },
     "execution_count": 24,
     "metadata": {},
     "output_type": "execute_result"
    }
   ],
   "source": [
    "findLCS(\"AGGTAB\" ,\"GXTXAYB\")"
   ]
  },
  {
   "cell_type": "markdown",
   "metadata": {},
   "source": [
    "<h6> Longest Common Substring<br>Input : X = “abcdxyz”, y = “xyzabcd”\n",
    "Output : 4\n",
    "The longest common substring is “abcd” and is of length 4."
   ]
  },
  {
   "cell_type": "code",
   "execution_count": 37,
   "metadata": {},
   "outputs": [],
   "source": [
    "def findLCString(s1, s2):\n",
    "    n = len(s1)\n",
    "    m = len(s2)\n",
    "    dp = [[0 for i in range(m+1)] for j in range(n+1)]\n",
    "    result = 0\n",
    "    \n",
    "    for i in range(n+1):\n",
    "        for j in range(m+1):\n",
    "            if(i==0 or j==0):\n",
    "                continue\n",
    "            elif(s1[i-1] == s2[j-1]):\n",
    "                dp[i][j] = dp[i-1][j-1] + 1\n",
    "                result = max(result, dp[i][j])\n",
    "    for i in range(n+1):\n",
    "        for j in range(m+1):\n",
    "            print(dp[i][j], end = ' ')\n",
    "        print(\"\\n\")\n",
    "    \n",
    "                \n",
    "    \n",
    "    return result"
   ]
  },
  {
   "cell_type": "code",
   "execution_count": 45,
   "metadata": {},
   "outputs": [
    {
     "name": "stdout",
     "output_type": "stream",
     "text": [
      "0 0 0 0 0 0 0 0 0 0 \n",
      "\n",
      "0 1 0 0 0 0 0 0 0 0 \n",
      "\n",
      "0 0 2 1 0 0 0 0 0 0 \n",
      "\n",
      "0 1 0 0 0 0 0 0 0 0 \n",
      "\n",
      "0 0 2 1 0 0 0 0 0 0 \n",
      "\n",
      "0 0 1 3 0 0 0 0 0 0 \n",
      "\n",
      "0 0 0 0 4 0 0 0 0 0 \n",
      "\n",
      "0 0 0 0 0 5 0 0 0 0 \n",
      "\n",
      "0 0 0 0 0 0 0 0 0 0 \n",
      "\n",
      "0 0 0 0 0 0 0 0 0 0 \n",
      "\n",
      "0 0 0 0 0 0 0 0 0 0 \n",
      "\n",
      "0 0 0 0 0 0 0 0 0 0 \n",
      "\n",
      "\n"
     ]
    },
    {
     "data": {
      "text/plain": [
       "5"
      ]
     },
     "execution_count": 45,
     "metadata": {},
     "output_type": "execute_result"
    }
   ],
   "source": [
    "findLCString(\"GeGeeks.org\", \"GeeksQuiz\")"
   ]
  },
  {
   "cell_type": "markdown",
   "metadata": {},
   "source": [
    "<h6> Shortest Common Supersequence</h6>"
   ]
  },
  {
   "cell_type": "code",
   "execution_count": 50,
   "metadata": {},
   "outputs": [],
   "source": [
    "def SCS(s1, s2):\n",
    "    res, i, j= \"\", 0, 0\n",
    "    for char in findLCS1(s1, s2):\n",
    "        while(s1[i]!= char):\n",
    "            res +=s1[i]\n",
    "            i+=1\n",
    "        while(s2[j]!=char):\n",
    "            res +=s2[j]\n",
    "            j+=1\n",
    "        res+=char # common word taken once\n",
    "        i, j = i + 1, j + 1\n",
    "    return res + s1[i:] + s2[j:] # add the remaining string1, then string2\n",
    "        \n",
    "    \n",
    "                "
   ]
  },
  {
   "cell_type": "code",
   "execution_count": 51,
   "metadata": {},
   "outputs": [
    {
     "data": {
      "text/plain": [
       "'AGGXTXAYB'"
      ]
     },
     "execution_count": 51,
     "metadata": {},
     "output_type": "execute_result"
    }
   ],
   "source": [
    "SCS(\"AGGTAB\" ,\"GXTXAYB\")"
   ]
  },
  {
   "cell_type": "markdown",
   "metadata": {},
   "source": [
    "<h6> Minimum number of insertions/ deletions to conver one string into other"
   ]
  },
  {
   "cell_type": "code",
   "execution_count": 61,
   "metadata": {},
   "outputs": [],
   "source": [
    "def insDel(s1,s2):\n",
    "    diff = findLCS(s1, s2)\n",
    "    minDel = len(s1) - diff\n",
    "    minIns = len(s2) - diff\n",
    "    print(\"Min deletions needed to: {} Min Insertions needed: {}\".format(minDel, minIns))\n",
    "    "
   ]
  },
  {
   "cell_type": "code",
   "execution_count": 63,
   "metadata": {},
   "outputs": [
    {
     "name": "stdout",
     "output_type": "stream",
     "text": [
      "Min deletions needed: 2 Min Insertions needed: 1\n"
     ]
    }
   ],
   "source": [
    "insDel(\"heap\" ,\"pea\")"
   ]
  },
  {
   "cell_type": "markdown",
   "metadata": {},
   "source": [
    "<h6> Longest Repeating Subequence</h6><br>\n",
    "The solution is pretty straight forward, find the LCS(str, str) this will give the required output!\n",
    "<br>Because we need to keep track of the repetitions, so in other words it is obvious to say that we need to comapre that string with itself and find the commons"
   ]
  },
  {
   "cell_type": "markdown",
   "metadata": {},
   "source": [
    "<h6>Find length of longest subsequence of one string which is substring of another string</h6><br>\n",
    "Input : X = \"ABCD\",  Y = \"BACDBDCD\"<br>\n",
    "Output : 3<br>\n",
    "\"ACD\" is longest subsequence of X which\n",
    "is substring of Y."
   ]
  },
  {
   "cell_type": "code",
   "execution_count": 65,
   "metadata": {},
   "outputs": [
    {
     "data": {
      "text/plain": [
       "'ABCD'"
      ]
     },
     "execution_count": 65,
     "metadata": {},
     "output_type": "execute_result"
    }
   ],
   "source": [
    "X,Y = \"ABCD\",\"BACDBDCD\"\n",
    "findLCS1(X,Y) # this gives the longest subsequence, but it is not necessarily a substring of Y "
   ]
  },
  {
   "cell_type": "code",
   "execution_count": 78,
   "metadata": {},
   "outputs": [],
   "source": [
    "def longestSubseqStr(s1, s2):\n",
    "    n = len(s1)\n",
    "    m = len(s2)\n",
    "    dp = [[0 for i in range(m+1)] for j in range(n+1)]\n",
    "    \n",
    "    for i in range(1, n+1):\n",
    "        for j in range(1, m+1):\n",
    "            if(s1[i-1] == s2[j-1]):\n",
    "                dp[i][j] = dp[i-1][j-1] + 1\n",
    "            else: # the characters do not match, so we save the result to be the on without using this character\n",
    "                dp[i][j] = dp[i-1][j]\n",
    "                \n",
    "    for i in range(n+1):\n",
    "        for j in range(m+1):\n",
    "            print(dp[i][j], end = ' ')\n",
    "        print(\"\\n\")\n",
    "    return dp[n][m]"
   ]
  },
  {
   "cell_type": "code",
   "execution_count": 79,
   "metadata": {},
   "outputs": [
    {
     "name": "stdout",
     "output_type": "stream",
     "text": [
      "0 0 0 0 0 0 0 0 0 \n",
      "\n",
      "0 0 1 0 0 0 0 0 0 \n",
      "\n",
      "0 1 1 0 0 1 0 0 0 \n",
      "\n",
      "0 1 1 2 0 1 0 1 0 \n",
      "\n",
      "0 1 1 2 3 1 2 1 2 \n",
      "\n"
     ]
    },
    {
     "data": {
      "text/plain": [
       "2"
      ]
     },
     "execution_count": 79,
     "metadata": {},
     "output_type": "execute_result"
    }
   ],
   "source": [
    "longestSubseqStr(X,Y)"
   ]
  },
  {
   "cell_type": "markdown",
   "metadata": {},
   "source": [
    "<h6> Subsequence Pattern Matching </h6><br>\n",
    "Given two strings, find if first string is a subsequence of second"
   ]
  },
  {
   "cell_type": "code",
   "execution_count": 80,
   "metadata": {},
   "outputs": [],
   "source": [
    "def PatternMatch(s1, s2):\n",
    "    n = len(s1)\n",
    "    m = len(s2)\n",
    "    i,j = 0,0\n",
    "    while i<n and j<m:\n",
    "        if(s1[i]==s2[i]):\n",
    "            j+=1\n",
    "        i+=1\n",
    "    return j==m\n",
    "        "
   ]
  },
  {
   "cell_type": "markdown",
   "metadata": {},
   "source": [
    "<h6> Deletions needed to make two string similar</h6> <br>\n",
    "We find the LCS between the two strings.\n",
    "In case of a complete mismatch the number of deletions needed to make them same would be m+n <br>\n",
    "But if we have somethings similar between the two, then we need not delete them, from either<br>\n",
    "Hence answer will be len(s1)+len(s2)+lcs"
   ]
  },
  {
   "cell_type": "code",
   "execution_count": 81,
   "metadata": {},
   "outputs": [],
   "source": [
    "def minDeletions(self, word1, word2):\n",
    "        n, m = len(word1), len(word2)\n",
    "        dp = [[0 for i in range(m+1)] for j in range(n+1)]\n",
    "        \n",
    "        for i in range(1,n+1):\n",
    "            for j in range(1, m+1):\n",
    "                if(word1[i-1] == word2[j-1]):\n",
    "                    dp[i][j] = dp[i-1][j-1] + 1\n",
    "                else:\n",
    "                    dp[i][j] = max(dp[i][j-1], dp[i-1][j])\n",
    "                    \n",
    "        return n+m -2*dp[-1][-1]"
   ]
  },
  {
   "cell_type": "markdown",
   "metadata": {},
   "source": [
    "<h6> Is Subsequence</h6><br>\n",
    "Given a string s and a string t, check if s is subsequence of t.<br>\n",
    "Easy approach: If LCS between the two string is of the same length as len(s) then YES!<br>\n",
    "Iterators approach-->"
   ]
  },
  {
   "cell_type": "code",
   "execution_count": 82,
   "metadata": {},
   "outputs": [],
   "source": [
    "def isSubsequence(self, s, t):\n",
    "        remainder_of_t = iter(t)\n",
    "        for letter in s:\n",
    "            if letter not in remainder_of_t:\n",
    "                return False\n",
    "        return True"
   ]
  },
  {
   "cell_type": "code",
   "execution_count": null,
   "metadata": {},
   "outputs": [],
   "source": []
  }
 ],
 "metadata": {
  "kernelspec": {
   "display_name": "Python 3",
   "language": "python",
   "name": "python3"
  },
  "language_info": {
   "codemirror_mode": {
    "name": "ipython",
    "version": 3
   },
   "file_extension": ".py",
   "mimetype": "text/x-python",
   "name": "python",
   "nbconvert_exporter": "python",
   "pygments_lexer": "ipython3",
   "version": "3.6.5"
  }
 },
 "nbformat": 4,
 "nbformat_minor": 2
}
