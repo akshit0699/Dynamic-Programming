{
 "cells": [
  {
   "cell_type": "markdown",
   "metadata": {},
   "source": [
    "<h1>Given a target, we need to find the min/max cost or path or sum to reach the target </h1><br><br>\n",
    "\n",
    "PARENT EQUATION<br>\n",
    "routes[i] = min(routes[i-1], routes[i-2], ... , routes[i-k]) + cost[i]"
   ]
  },
  {
   "cell_type": "markdown",
   "metadata": {},
   "source": [
    "1. First we need to device a RECURSIVE REALTION<br>\n",
    "2. Then we try to recognize the states, equation and useful variables and find BASE CASES<br>\n",
    "3. Once we are aware of the recursive relation, build A BOTTOM UP SOLUTION<br>\n",
    "4. Recognize the steps that are getting repeated and MEMOIZE those steps.<br>\n",
    "5. Convert this equation to TOP-DOWN, i.e. now we can keep a tabular form of the saved results."
   ]
  },
  {
   "cell_type": "markdown",
   "metadata": {},
   "source": [
    "<h2> MINIMUM COST FOR CLIMBING STAIRS</h2><br><br>\n",
    "I can either start from the frist step 0 or from step 1, I just need to take the minimum of the two.(initial extra choice I need to make)\n",
    "<br> If I am at a step, I am considering ITS OWN COST ALWAYS\n",
    "<br> Now, I can come from just one step behind, or a couple of steps behind"
   ]
  },
  {
   "cell_type": "code",
   "execution_count": 1,
   "metadata": {},
   "outputs": [],
   "source": [
    "# FINDING THE RECURSIVE RELATION\n",
    "#minCost(i) = cost[i] + min(minCost(i-1), minCost(i-2))\n",
    "def minCostforClimbing(cost):\n",
    "    n = len(cost)\n",
    "    # INITAL EXTRA CHOICE\n",
    "    return min(minCost(cost, n-1), minCost(cost, n-2))\n",
    "def minCost(cost, n):\n",
    "    # TERMINATING CASE\n",
    "    if n<0:\n",
    "        return 0\n",
    "    # BASE CASES\n",
    "    if n==0 or n==1:\n",
    "        return cost[n]\n",
    "    else:\n",
    "        return cost[n] + min(minCost(cost, n-1), minCost(cost, n-2))\n",
    "    "
   ]
  },
  {
   "cell_type": "markdown",
   "metadata": {},
   "source": [
    "Can I memoize my results at any point? Can I prevent some re computations?"
   ]
  },
  {
   "cell_type": "code",
   "execution_count": 6,
   "metadata": {},
   "outputs": [],
   "source": [
    "# INTRODUCE A DP ARRAY TO STORE THE RESULTS\n",
    "dp = []\n",
    "def minCostforClimbing1(cost):\n",
    "    n = len(cost)\n",
    "    dp = [0]*n\n",
    "    return min(minCost(cost, n-1), minCost(cost, n-2))\n",
    "def minCost1(cost, n):\n",
    "    # TERMINATING CASE\n",
    "    if n<0:\n",
    "        return 0\n",
    "    # BASE CASES\n",
    "    if n==0 or n==1:\n",
    "        return cost[n]\n",
    "    if dp[n] != 0:\n",
    "        return dp[n]\n",
    "    else:\n",
    "        dp[n] = cost[n] + min(minCost(cost, n-1), minCost(cost, n-2))\n",
    "    return dp[n]"
   ]
  },
  {
   "cell_type": "markdown",
   "metadata": {},
   "source": [
    "Now converting my Bottom up memoized solution to a Top down iterative one: "
   ]
  },
  {
   "cell_type": "code",
   "execution_count": 8,
   "metadata": {},
   "outputs": [],
   "source": [
    "def minCostforClimbing2(cost):\n",
    "    n = len(cost)\n",
    "    dp = [0]*n\n",
    "    for i in range(n):\n",
    "        if i<=1:\n",
    "            dp[i] = cost[i] # Base case\n",
    "        else:\n",
    "            dp[i] = cost[i] + min(dp[i-1], dp[i-2]) # Just use the previous two computations\n",
    "    return min(dp[n-1], dp[n-2]) # Remember the initial extra choice?"
   ]
  },
  {
   "cell_type": "markdown",
   "metadata": {},
   "source": [
    "<h2> MINIMUM PATH SUM</h2><br>\n",
    "Given a grid of numbers, start from top left, reach bottom right. Make the sum minimum for this path<br>\n",
    "I can go RIGHT OR BOTTOM only <br>\n",
    "\n",
    "<br>\n",
    "RECCURENCE RELATION<br>\n",
    "toReach(i,j) = cost(i,j) + min(toReach(i-1,j), toReach(i,j-1))"
   ]
  },
  {
   "cell_type": "code",
   "execution_count": 10,
   "metadata": {},
   "outputs": [],
   "source": [
    "def minPath(cost):\n",
    "    rows = len(cost)\n",
    "    cols = len(cost[0])\n",
    "    return toReach(cost, rows-1, cols-1)\n",
    "def toReach(cost, row, col):\n",
    "    \n",
    "    # Bases cases\n",
    "    if row == 0 and col == 0:\n",
    "        return cost[row][col]\n",
    "    # Edge cases\n",
    "    if row == 0:\n",
    "        return cost[row][col] + toReach(cost,row,col-1)\n",
    "    if col == 0:\n",
    "        return cost[row][col] + toReach(cost,row-1,col)\n",
    "    return cost[row][col] + min(toReach(cost, row-1, col), toReach(cost, row, col-1))"
   ]
  },
  {
   "cell_type": "markdown",
   "metadata": {},
   "source": [
    "Can I memoize some results? Save some computations maybe.."
   ]
  },
  {
   "cell_type": "code",
   "execution_count": 13,
   "metadata": {},
   "outputs": [],
   "source": [
    "def minPath1(cost):\n",
    "    rows = len(cost)\n",
    "    cols = len(cost[0])\n",
    "    dp = [[0 for i in range(cols)] for i in range (rows)]\n",
    "    return toReach(cost, rows-1, cols-1)\n",
    "def toReach(cost, row, col):\n",
    "    \n",
    "    # Bases cases\n",
    "    if row == 0 and col == 0:\n",
    "        return cost[row][col]\n",
    "    # Edge cases\n",
    "    # Anywhere in the top row and leftmost column can be reached only from the paths\n",
    "    # That are just previous right/below them\n",
    "    if row == 0:\n",
    "        return cost[row][col] + toReach(cost,row,col-1)\n",
    "    if col == 0:\n",
    "        return cost[row][col] + toReach(cost,row-1,col)\n",
    "    if dp[m][n]!=0:\n",
    "        return dp[m][n]\n",
    "    dp[m][n] =  cost[row][col] + min(toReach(cost, row-1, col), toReach(cost, row, col-1))\n",
    "    return dp[m][n]"
   ]
  },
  {
   "cell_type": "markdown",
   "metadata": {},
   "source": [
    "Now converting my Bottom up memoized solution to a Top down iterative one: "
   ]
  },
  {
   "cell_type": "code",
   "execution_count": 14,
   "metadata": {},
   "outputs": [],
   "source": [
    "def minPath2(cost):\n",
    "    rows = len(cost)\n",
    "    cols = len(cost[0])\n",
    "    dp = [[0 for i in range(cols)] for i in range (rows)]\n",
    "    for i in range(1, rows):\n",
    "        dp[i][0] = dp[i-1][0] + cost[i][0]\n",
    "    for j in range(1, cols):\n",
    "        dp[0][j] = dp[0][j-1] + cost[0][j]\n",
    "    for i in range(1, rows):\n",
    "        for j in range(1, cols):\n",
    "            dp[i][j] = cost[i][j] + min(dp[i-1][j], dp[i][j-1])\n",
    "    return dp[-1][-1]\n",
    "    \n",
    "    "
   ]
  },
  {
   "cell_type": "markdown",
   "metadata": {},
   "source": [
    "<h2> MINIMUM FALLING PATH SUM </h2><br><br>\n",
    "Start from an element in the first row of the 2D matrix, and reach the bottom row, in such a way that the choice made for a new row is either in the same column as previous row, or one difference(to the left/right)\n",
    "Minimize this path's sum!"
   ]
  },
  {
   "cell_type": "markdown",
   "metadata": {},
   "source": [
    "1. Now, first we think of the Reccurence relation, as always.<br>\n",
    "fallingSum(i) = fallingSum(i-1) + min(the three adjacent guys)\n",
    "2. Edge cases, if we are in the first column, we can come there only from the right side column, if we are in the last column, we can come there only from the left column\n"
   ]
  },
  {
   "cell_type": "markdown",
   "metadata": {},
   "source": [
    "The minimum path to get to element A[i][j] is the minimum of A[i - 1][j - 1], A[i - 1][j] and A[i - 1][j + 1].<br>\n",
    "Starting from row 1, we add the minumum path to each element. <br>The smallest number in the last row is the miminum path sum.<br>\n",
    "Example:<br>\n",
    "[1, 2, 3]<br>\n",
    "[4, 5, 6] => [5, 6, 8]<br>\n",
    "[7, 8, 9] => [7, 8, 9] => [12, 13, 15]<br>"
   ]
  },
  {
   "cell_type": "markdown",
   "metadata": {},
   "source": [
    "Bottom up memoized solution:"
   ]
  },
  {
   "cell_type": "code",
   "execution_count": 17,
   "metadata": {},
   "outputs": [],
   "source": [
    "def minFallingSum(cost):\n",
    "    rows = len(cost)\n",
    "    cols = len(cost[0])\n",
    "    dp = [[0 for i in range(cols)] for i in range (rows)]\n",
    "    minPath = float('inf')\n",
    "    for i in range(cols):\n",
    "        minPath = min(minPath, findMin(0,i,cost))\n",
    "    return minPath\n",
    "def findMin(row, col, cost):\n",
    "    if row == len(cost):\n",
    "        return 0\n",
    "    if col == -1 or col == len(cost[0]):\n",
    "        return float('inf')\n",
    "    if dp[row][col] != 0:\n",
    "        return dp[row][col]\n",
    "    minPath = float('inf')\n",
    "    minPath = min(minPath, cost[row][col]+findMin(row+1,col-1, cost))\n",
    "    minPath = min(minPath, cost[row][col]+findMin(row+1,col, cost))\n",
    "    minPath = min(minPath, cost[row][col]+findMin(row+1,col+1, cost))\n",
    "    dp[row][col] =  minPath\n",
    "    return dp[row][col]\n",
    "    \n",
    "    "
   ]
  },
  {
   "cell_type": "code",
   "execution_count": 18,
   "metadata": {},
   "outputs": [],
   "source": [
    "def minFallingSum(cost):\n",
    "    rows = len(cost)\n",
    "    cols = len(cost[0])\n",
    "    for i in range(1, rows):\n",
    "        for j in range(cols):\n",
    "            if j == 0:\n",
    "                cost[i][j] += min(cost[i-1][j], cost[i-1][j+1])\n",
    "            if j == cols-1:\n",
    "                cost[i][j] += min(cost[i-1][j], cost[i-1][j-1])\n",
    "            else:\n",
    "                cost[i][j] += min(cost[i-1][j], cost[i-1][j-1], cost[i-1][j+1])\n",
    "    return min(cost[-1])"
   ]
  },
  {
   "cell_type": "markdown",
   "metadata": {},
   "source": [
    "<h2> TRIANGLE PROBLEM</h2><br><br>\n",
    "Given a triangle, find the minimum path sum from top to bottom. Each step you may move to adjacent numbers on the row below."
   ]
  },
  {
   "cell_type": "code",
   "execution_count": 19,
   "metadata": {},
   "outputs": [],
   "source": [
    "#RECURSIVE RELATION\n",
    "#We can think of the problem as bottom up as well as top down in very simple terms\n",
    "#Top-Down:\n",
    "    #cost(i) = cost(i) + min(the two possible values above me)\n",
    "    #(Take care of the base case, that the the 2 vals are not always handy!)\n",
    "    \n",
    "    \n",
    "def minimumTotal1(self, triangle):\n",
    "    if not triangle:\n",
    "        return \n",
    "    res = [[0 for i in xrange(len(row))] for row in triangle]\n",
    "    res[0][0] = triangle[0][0]\n",
    "    for i in xrange(1, len(triangle)):\n",
    "        for j in xrange(len(triangle[i])):\n",
    "            \n",
    "            # Edge case 1\n",
    "            if j == 0:\n",
    "                res[i][j] = res[i-1][j] + triangle[i][j]\n",
    "            # Edge case 2\n",
    "            elif j == len(triangle[i])-1:\n",
    "                res[i][j] = res[i-1][j-1] + triangle[i][j]\n",
    "            else:\n",
    "                res[i][j] = min(res[i-1][j-1], res[i-1][j]) + triangle[i][j]\n",
    "    return min(res[-1])"
   ]
  },
  {
   "cell_type": "code",
   "execution_count": 20,
   "metadata": {},
   "outputs": [],
   "source": [
    "# Thinking of it in bottom up terms,\n",
    "# For any element in the last row we will have that element to be added necessarily\n",
    "# So starting one row above that,  say we are at kth row. Minimum path to get one level down from there\n",
    "#minpath(k,i) = cost(k,i) + min(minpath(k+1,i), minpath(k+1,i+1))\n",
    "# We can convert it into a 1D array too, as minpath(k+1) would not be used one k has been caluclated\n",
    "#minpath(i) = cost(k,i) + min(minpath(i), minpath(i+1))\n",
    "\n",
    "def minimumTotal(self, triangle):\n",
    "    if not triangle:\n",
    "        return \n",
    "    res = triangle[-1]\n",
    "    for i in xrange(len(triangle)-2, -1, -1):\n",
    "        for j in xrange(len(triangle[i])):\n",
    "            res[j] = min(res[j], res[j+1]) + triangle[i][j]\n",
    "    return res[0]"
   ]
  },
  {
   "cell_type": "markdown",
   "metadata": {},
   "source": [
    "<h2> MINIMUM COST FOR TICKETS </h2><br><br>\n",
    "We have got 3 types of passes, cost of each of them, and a list of days on which we are travelling, find the least possible cost to complete the travel"
   ]
  },
  {
   "cell_type": "code",
   "execution_count": 21,
   "metadata": {},
   "outputs": [],
   "source": [
    "# I have a choice of deciding which pass will be the best for me..\n",
    "# 1/7/30 for the days [1,4,6,7,8,20]\n",
    "# We try to formulate subproblems, instead of thinking the cost for 20 days\n",
    "# think of the cost for 1 day,2 days...,3,4,5...days\n",
    "# If it is a non travelling day:\n",
    "    #pick up the cost from the previous day..\n",
    "# If its a travelling day:\n",
    "    #pick up the min(travel(i-1), travel(i-7), travel(i-30))\n",
    "    # (I need to take care that if I access a negative value I set it to float ('inf'))\n",
    "#RECCURENE RELATION WILL BE:\n",
    "\n",
    "\n",
    "def mincostTickets(days, costs):\n",
    "        dp = [0]*(days[-1]+1)\n",
    "       \n",
    "        for i in range(1,len(dp)):\n",
    "            if i not in days:\n",
    "                dp[i] = dp[i-1]\n",
    "            else:\n",
    "                # Alllow this only if something is there in the array else pass!\n",
    "                dp[i] = min(dp[max(0,i-1)] + cost[0], dp[max(0,i-7)]+cost[1], dp[max(0,i-30)]+cost[2])\n",
    "        return dp[-1]\n",
    "\n",
    "        \n",
    "    \n",
    "    "
   ]
  },
  {
   "cell_type": "markdown",
   "metadata": {},
   "source": [
    "<h2>PERFECT SQUARES</h2><br><br>\n",
    "Given a positive integer n, find the least number of perfect square numbers (for example, 1, 4, 9, 16, ...) which sum to n."
   ]
  },
  {
   "cell_type": "markdown",
   "metadata": {},
   "source": [
    "Say you want to calculate the req(8)\n",
    "start from the first possible square, keep subtracticing it from 8,\n",
    "and keep checking (8-1)+1, (8-4)+1, neglecting thigs....(8-9)+1\n",
    "and you need to keep a minimum of these guys..\n",
    "\n",
    "This can be thought of trying to make a change of n, given the coins [1,4,9,...] (till the squares are possible)\n",
    "SIMPLEST RECURSIVE RELATION:\n",
    "    We can try all the paths, considering all possible combinations of coins\n"
   ]
  },
  {
   "cell_type": "code",
   "execution_count": 22,
   "metadata": {},
   "outputs": [],
   "source": [
    "#This can be thought of trying to make a change of n, given the coins [1,4,9,...] (till the squares are possible)\n",
    "#IMPLEST RECURSIVE RELATION:\n",
    "    #We can try all the paths, considering all possible combinations of coins\n",
    "def numSquares(n):\n",
    "    if n<4:\n",
    "        return n\n",
    "    count = n # Using all 1s is always an option\n",
    "    for i in range(n//2+1):\n",
    "        count = min(count, numSquares(n- i*i)+1)\n",
    "    return count"
   ]
  },
  {
   "cell_type": "markdown",
   "metadata": {},
   "source": [
    "We can improve our computations by memoizing the results,<br><br>\n",
    " dp[i] = Int.MAX_VALUE<br>\n",
    "dp[i] = Math.min(dp[i], dp[i - j * j]) for all j where j * j <= i"
   ]
  },
  {
   "cell_type": "code",
   "execution_count": 23,
   "metadata": {},
   "outputs": [],
   "source": [
    "def numSquares(n):\n",
    "    dp = [float('inf')]*n+1\n",
    "    dp[0], dp[1] = 0, 1\n",
    "    for i in range(2, n+1):\n",
    "        for j in range(1, i):\n",
    "            if i-j*j<0:\n",
    "                break\n",
    "            dp[i] = min(dp[i], 1+dp[i- j*j])\n",
    "    return dp[-1]\n",
    "            \n",
    "        "
   ]
  },
  {
   "cell_type": "markdown",
   "metadata": {},
   "source": [
    "<h2> COIN CHANGE</h2><br><br>\n",
    "Write a function to compute the fewest number of coins that you need to make up that amount<br><br>\n",
    "Input: coins = [1, 2, 5], amount = 11<br>\n",
    "Output: 3 <br>\n",
    "Explanation: 11 = 5 + 5 + 1<br>"
   ]
  },
  {
   "cell_type": "code",
   "execution_count": 24,
   "metadata": {},
   "outputs": [],
   "source": [
    "def makeChange(coins, amt):\n",
    "    dp = [float('inf')]*(amt+1)\n",
    "    dp[0] = 0\n",
    "    for i in range(1, amt+1):\n",
    "        for j in range(0, len(coins)):\n",
    "            leftover = i - coins[j]\n",
    "            if leftover>=0:\n",
    "                dp[i] = min(dp[i], dp[lefover]+1)\n",
    "    if dp[-1] == float('inf'):\n",
    "        return -1\n",
    "    return dp[-1]\n",
    "    "
   ]
  },
  {
   "cell_type": "markdown",
   "metadata": {},
   "source": []
  },
  {
   "cell_type": "code",
   "execution_count": null,
   "metadata": {},
   "outputs": [],
   "source": []
  }
 ],
 "metadata": {
  "kernelspec": {
   "display_name": "Python 3",
   "language": "python",
   "name": "python3"
  },
  "language_info": {
   "codemirror_mode": {
    "name": "ipython",
    "version": 3
   },
   "file_extension": ".py",
   "mimetype": "text/x-python",
   "name": "python",
   "nbconvert_exporter": "python",
   "pygments_lexer": "ipython3",
   "version": "3.6.5"
  }
 },
 "nbformat": 4,
 "nbformat_minor": 2
}
