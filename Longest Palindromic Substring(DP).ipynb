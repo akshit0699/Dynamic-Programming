{
 "cells": [
  {
   "cell_type": "markdown",
   "metadata": {},
   "source": [
    "<h2> LONGEST PALINDROMIC SUBSEQUENCE AND VARIATIONS</h2><br>\n",
    "1. Longest Palindromic Substring<br>\n",
    "2. Count of Palindromic subtring<br>\n",
    "3. Minimum num of deletions in a string to make it a palindrome<br>\n",
    "4. Minimum num of insertions in a string to make it a palindrome<br>"
   ]
  },
  {
   "cell_type": "markdown",
   "metadata": {},
   "source": [
    "<h5> Finding the Longest palindromic subseq</h5> <br>It can be easily find by doing LCS(s1, reverse(s1))<br>\n",
    "But we will look into one ohter method that goes parallel to longest palindromic substring as well"
   ]
  },
  {
   "cell_type": "markdown",
   "metadata": {},
   "source": [
    "The substring can be of len = 1,2,3.....len(string) <br>\n",
    "len = 1, all letters in itself are a palindrome<br>\n",
    "len = 2, all two letter words in which both are same are a palindrome<br>\n",
    "len = 3 upto len(string) CHECK THEM<br>\n",
    "<h6>If the letters match:</h6><br>Check the length of the string without these words, delete the first word, go i+1, delete the last word, go j-1<br>\n",
    "<h6>If the letters do not match:</h6><br>Check the length of the string without these words one at a time, <br>max of (delete the first word, go i+1,  delete the last word, go j-1)<br>"
   ]
  },
  {
   "cell_type": "code",
   "execution_count": 22,
   "metadata": {},
   "outputs": [],
   "source": [
    "def LPS(s):\n",
    "    n = len(s)\n",
    "    dp = [[0 for i in range(n)] for i in range(n)]\n",
    "    \n",
    "    for i in range(n):\n",
    "        dp[i][i] = 1\n",
    "    \n",
    "    for curr_len in range(2, n+1):\n",
    "        for i in range(n - curr_len +1):\n",
    "            j = i+curr_len-1 #last char of the given word of curr_len length\n",
    "            if s[i]==s[j]:\n",
    "                dp[i][j] = dp[i+1][j-1] + 2\n",
    "            else:\n",
    "                dp[i][j]= max(dp[i+1][j], dp[i][j-1])\n",
    "    for i in range(n):\n",
    "        for j in range(n):\n",
    "            print(dp[i][j], end = ' ')\n",
    "        print(\"\\n\")\n",
    "    return dp[0][n-1]\n",
    "    \n",
    "    \n",
    "    "
   ]
  },
  {
   "cell_type": "code",
   "execution_count": 23,
   "metadata": {},
   "outputs": [
    {
     "name": "stdout",
     "output_type": "stream",
     "text": [
      "1 1 2 2 2 2 2 2 4 4 5 5 5 \n",
      "\n",
      "0 1 2 2 2 2 2 2 2 3 5 5 5 \n",
      "\n",
      "0 0 1 1 1 1 1 1 1 3 3 4 4 \n",
      "\n",
      "0 0 0 1 1 1 1 1 1 1 2 4 4 \n",
      "\n",
      "0 0 0 0 1 1 1 1 1 1 2 2 4 \n",
      "\n",
      "0 0 0 0 0 1 1 1 1 1 2 2 2 \n",
      "\n",
      "0 0 0 0 0 0 1 1 1 1 2 2 2 \n",
      "\n",
      "0 0 0 0 0 0 0 1 1 1 2 2 2 \n",
      "\n",
      "0 0 0 0 0 0 0 0 1 1 2 2 2 \n",
      "\n",
      "0 0 0 0 0 0 0 0 0 1 2 2 2 \n",
      "\n",
      "0 0 0 0 0 0 0 0 0 0 1 1 1 \n",
      "\n",
      "0 0 0 0 0 0 0 0 0 0 0 1 1 \n",
      "\n",
      "0 0 0 0 0 0 0 0 0 0 0 0 1 \n",
      "\n",
      "The length of the LPS is 5\n"
     ]
    }
   ],
   "source": [
    "seq = \"GEEKSFORGEEKS\"\n",
    "n = len(seq) \n",
    "print(\"The length of the LPS is \" + str(LPS(seq)))"
   ]
  },
  {
   "cell_type": "markdown",
   "metadata": {},
   "source": [
    "<h6> Longest Palindromic Substring</h6>\n",
    "The deal for lengths 1,2 is the same<br>\n",
    "For further lengths,\n",
    "<br>We see if the first and last words match, then if without these words the string was a substring, then we found a larger new substr."
   ]
  },
  {
   "cell_type": "code",
   "execution_count": 56,
   "metadata": {},
   "outputs": [],
   "source": [
    "def LPSubstr(s):\n",
    "    n = len(s)\n",
    "    dp = [[False for i in range(n)] for i in range(n)]\n",
    "    \n",
    "    for i in range(n):\n",
    "        dp[i][i] = 1\n",
    "    \n",
    "    beginsAt = 0\n",
    "    max_len = 1 \n",
    "    for i in range(n-1):\n",
    "        if s[i] == s[i+1]:\n",
    "            dp[i][i+1] = True\n",
    "            beginsAt = i\n",
    "            max_len = 2\n",
    "            \n",
    "    for curr_len in range(3, n+1):\n",
    "        for i in range(n-curr_len+1):\n",
    "            j = i+curr_len-1\n",
    "            if(s[i]==s[j] and dp[i+1][j-1]):\n",
    "                dp[i][j] = True\n",
    "                beginsAt = i\n",
    "                max_len = curr_len\n",
    "    return s[beginsAt:beginsAt+max_len]\n",
    "    "
   ]
  },
  {
   "cell_type": "code",
   "execution_count": 62,
   "metadata": {},
   "outputs": [
    {
     "data": {
      "text/plain": [
       "'arora'"
      ]
     },
     "execution_count": 62,
     "metadata": {},
     "output_type": "execute_result"
    }
   ],
   "source": [
    "LPSubstr(\"helloarorastring\")"
   ]
  },
  {
   "cell_type": "markdown",
   "metadata": {},
   "source": [
    "<h6> Count of palindromic substrings in a string</h6><br>"
   ]
  },
  {
   "cell_type": "code",
   "execution_count": 63,
   "metadata": {},
   "outputs": [],
   "source": [
    "class Solution(object):\n",
    "    def countSubstrings(self, s):\n",
    "        count = 0\n",
    "        n = len(s)\n",
    "        dp = [[False for i in range(n)] for i in range(n)]\n",
    "\n",
    "        for i in range(n):\n",
    "            dp[i][i] = 1\n",
    "            count+=1\n",
    "        for i in range(n-1):\n",
    "            if (s[i] == s[i+1]):\n",
    "               dp[i][i+1]  = True\n",
    "               count+=1\n",
    "        for curr_len in range(3, n+1):\n",
    "            for i in range(n-curr_len+1):\n",
    "                j = i+curr_len-1\n",
    "                if(s[i]==s[j] and dp[i+1][j-1]):\n",
    "                    dp[i][j] = True\n",
    "                    count+=1\n",
    "        return count"
   ]
  },
  {
   "cell_type": "markdown",
   "metadata": {},
   "source": [
    "<h6> Minimum number of insertions/deletions to make a string palindrom</h6><br>\n",
    "1. Find the length of the longest palindromic substring in the input string <br>\n",
    "2. len(string) - len(LPS) gives the result<br>\n",
    "SAME CODE CAN BE USED TO FIND THE MINIMUM NUMBER OF DELETIONS REQURIED\n"
   ]
  },
  {
   "cell_type": "code",
   "execution_count": 71,
   "metadata": {},
   "outputs": [],
   "source": [
    "def minInsertions(s):\n",
    "    # find the LPS of s\n",
    "    n = len(s)\n",
    "    dp = [[0 for i in range(n)]for i in range(n)]\n",
    "    for i in range(n):\n",
    "        dp[i][i] = 1\n",
    "    for curr_len in range(2,n+1):\n",
    "        for i in range(n-curr_len+1):\n",
    "            j = i+curr_len-1\n",
    "            if(s[i] == s[j]):\n",
    "                dp[i][j] = 2+dp[i+1][j-1]\n",
    "            else:\n",
    "                dp[i][j] = max(dp[i+1][j], dp[i][j-1])\n",
    "    return n-dp[0][n-1]\n",
    "    "
   ]
  },
  {
   "cell_type": "code",
   "execution_count": 73,
   "metadata": {},
   "outputs": [
    {
     "data": {
      "text/plain": [
       "8"
      ]
     },
     "execution_count": 73,
     "metadata": {},
     "output_type": "execute_result"
    }
   ],
   "source": [
    "minInsertions(\"geeksforgeeks\")"
   ]
  },
  {
   "cell_type": "code",
   "execution_count": null,
   "metadata": {},
   "outputs": [],
   "source": []
  }
 ],
 "metadata": {
  "kernelspec": {
   "display_name": "Python 3",
   "language": "python",
   "name": "python3"
  },
  "language_info": {
   "codemirror_mode": {
    "name": "ipython",
    "version": 3
   },
   "file_extension": ".py",
   "mimetype": "text/x-python",
   "name": "python",
   "nbconvert_exporter": "python",
   "pygments_lexer": "ipython3",
   "version": "3.6.5"
  }
 },
 "nbformat": 4,
 "nbformat_minor": 2
}
